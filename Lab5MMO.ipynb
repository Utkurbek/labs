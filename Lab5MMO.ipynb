{
  "nbformat": 4,
  "nbformat_minor": 5,
  "metadata": {
    "kernelspec": {
      "display_name": "Python 3",
      "language": "python",
      "name": "python3"
    },
    "language_info": {
      "codemirror_mode": {
        "name": "ipython",
        "version": 3
      },
      "file_extension": ".py",
      "mimetype": "text/x-python",
      "name": "python",
      "nbconvert_exporter": "python",
      "pygments_lexer": "ipython3",
      "version": "3.7.0"
    },
    "colab": {
      "name": "Lab5MMO.ipynb",
      "provenance": [],
      "collapsed_sections": []
    }
  },
  "cells": [
    {
      "cell_type": "code",
      "metadata": {
        "id": "monthly-highlight"
      },
      "source": [
        "from spacy.lang.ru import Russian\n",
        "import spacy"
      ],
      "id": "monthly-highlight",
      "execution_count": null,
      "outputs": []
    },
    {
      "cell_type": "code",
      "metadata": {
        "id": "imposed-franchise"
      },
      "source": [
        "text1 ='Птица Говорун отличается умом и сообразительностью'"
      ],
      "id": "imposed-franchise",
      "execution_count": null,
      "outputs": []
    },
    {
      "cell_type": "markdown",
      "metadata": {
        "id": "ancient-houston"
      },
      "source": [
        "Токенизация"
      ],
      "id": "ancient-houston"
    },
    {
      "cell_type": "code",
      "metadata": {
        "id": "medium-jungle",
        "outputId": "930e7032-88a0-429b-cdca-ac3d74654d06"
      },
      "source": [
        "nlp = spacy.load('ru_core_news_sm')\n",
        "spacy_text1 = nlp(text1)\n",
        "spacy_text1"
      ],
      "id": "medium-jungle",
      "execution_count": null,
      "outputs": [
        {
          "output_type": "execute_result",
          "data": {
            "text/plain": [
              "Птица Говорун отличается умом и сообразительностью"
            ]
          },
          "metadata": {
            "tags": []
          },
          "execution_count": 13
        }
      ]
    },
    {
      "cell_type": "code",
      "metadata": {
        "id": "likely-liverpool",
        "outputId": "2f677a65-3de9-41e3-9a4a-039eebdbbb8c"
      },
      "source": [
        "for t in spacy_text1:\n",
        "    print(t)"
      ],
      "id": "likely-liverpool",
      "execution_count": null,
      "outputs": [
        {
          "output_type": "stream",
          "text": [
            "Птица\n",
            "Говорун\n",
            "отличается\n",
            "умом\n",
            "и\n",
            "сообразительностью\n"
          ],
          "name": "stdout"
        }
      ]
    },
    {
      "cell_type": "markdown",
      "metadata": {
        "id": "intelligent-promise"
      },
      "source": [
        "Частеречная разметка"
      ],
      "id": "intelligent-promise"
    },
    {
      "cell_type": "code",
      "metadata": {
        "id": "taken-concord",
        "outputId": "2ffe361d-dde6-4f18-8943-94308acfd40a"
      },
      "source": [
        "for token in spacy_text1:\n",
        "    print('{} - {} - {}'.format(token.text, token.pos_, token.dep_))"
      ],
      "id": "taken-concord",
      "execution_count": null,
      "outputs": [
        {
          "output_type": "stream",
          "text": [
            "Птица - NOUN - nsubj\n",
            "Говорун - PROPN - appos\n",
            "отличается - VERB - ROOT\n",
            "умом - NOUN - obl\n",
            "и - CCONJ - cc\n",
            "сообразительностью - NOUN - conj\n"
          ],
          "name": "stdout"
        }
      ]
    },
    {
      "cell_type": "markdown",
      "metadata": {
        "id": "approximate-florida"
      },
      "source": [
        "Лемматизация"
      ],
      "id": "approximate-florida"
    },
    {
      "cell_type": "code",
      "metadata": {
        "id": "awful-woman",
        "outputId": "8687334d-fbfe-4f4f-da23-1f2034f120d1"
      },
      "source": [
        "for token in spacy_text1:\n",
        "      print(token, token.lemma, token.lemma_)"
      ],
      "id": "awful-woman",
      "execution_count": null,
      "outputs": [
        {
          "output_type": "stream",
          "text": [
            "Птица 14689663505855917165 птица\n",
            "Говорун 12845814657201599450 говорун\n",
            "отличается 11943280915295780619 отличаться\n",
            "умом 5115711925887050639 ум\n",
            "и 15015917632809974589 и\n",
            "сообразительностью 3950228048489898853 сообразительность\n"
          ],
          "name": "stdout"
        }
      ]
    },
    {
      "cell_type": "markdown",
      "metadata": {
        "id": "limiting-continuity"
      },
      "source": [
        "Выделение (распознавание) именованных сущностей"
      ],
      "id": "limiting-continuity"
    },
    {
      "cell_type": "code",
      "metadata": {
        "id": "twenty-aurora",
        "outputId": "7f9d652b-471b-47b2-90ad-3da274a746aa"
      },
      "source": [
        "for ent in spacy_text1.ents:\n",
        "    print(ent.text, ent.label_)"
      ],
      "id": "twenty-aurora",
      "execution_count": null,
      "outputs": [
        {
          "output_type": "stream",
          "text": [
            "Говорун PER\n"
          ],
          "name": "stdout"
        }
      ]
    },
    {
      "cell_type": "code",
      "metadata": {
        "id": "relevant-tumor",
        "outputId": "f8883e6c-a073-448f-b5c5-7f1dc24c4a76"
      },
      "source": [
        "from spacy import displacy\n",
        "displacy.render(spacy_text1, style='ent', jupyter=True)"
      ],
      "id": "relevant-tumor",
      "execution_count": null,
      "outputs": [
        {
          "output_type": "display_data",
          "data": {
            "text/html": [
              "<span class=\"tex2jax_ignore\"><div class=\"entities\" style=\"line-height: 2.5; direction: ltr\">Птица \n",
              "<mark class=\"entity\" style=\"background: #ddd; padding: 0.45em 0.6em; margin: 0 0.25em; line-height: 1; border-radius: 0.35em;\">\n",
              "    Говорун\n",
              "    <span style=\"font-size: 0.8em; font-weight: bold; line-height: 1; border-radius: 0.35em; vertical-align: middle; margin-left: 0.5rem\">PER</span>\n",
              "</mark>\n",
              " отличается умом и сообразительностью</div></span>"
            ],
            "text/plain": [
              "<IPython.core.display.HTML object>"
            ]
          },
          "metadata": {
            "tags": []
          }
        }
      ]
    },
    {
      "cell_type": "markdown",
      "metadata": {
        "id": "private-whole"
      },
      "source": [
        "Разбор предложения"
      ],
      "id": "private-whole"
    },
    {
      "cell_type": "code",
      "metadata": {
        "id": "intended-resistance"
      },
      "source": [
        "from spacy import displacy"
      ],
      "id": "intended-resistance",
      "execution_count": null,
      "outputs": []
    },
    {
      "cell_type": "code",
      "metadata": {
        "id": "pleased-contemporary",
        "outputId": "9e7a21a9-3de1-4fa8-f787-c491ebb06649"
      },
      "source": [
        "displacy.render(spacy_text1, style='dep', jupyter=True)"
      ],
      "id": "pleased-contemporary",
      "execution_count": null,
      "outputs": [
        {
          "output_type": "display_data",
          "data": {
            "text/html": [
              "<span class=\"tex2jax_ignore\"><svg xmlns=\"http://www.w3.org/2000/svg\" xmlns:xlink=\"http://www.w3.org/1999/xlink\" xml:lang=\"ru\" id=\"4106c33c21e94776bf785c9b8bbed3eb-0\" class=\"displacy\" width=\"1100\" height=\"399.5\" direction=\"ltr\" style=\"max-width: none; height: 399.5px; color: #000000; background: #ffffff; font-family: Arial; direction: ltr\">\n",
              "<text class=\"displacy-token\" fill=\"currentColor\" text-anchor=\"middle\" y=\"309.5\">\n",
              "    <tspan class=\"displacy-word\" fill=\"currentColor\" x=\"50\">Птица</tspan>\n",
              "    <tspan class=\"displacy-tag\" dy=\"2em\" fill=\"currentColor\" x=\"50\">NOUN</tspan>\n",
              "</text>\n",
              "\n",
              "<text class=\"displacy-token\" fill=\"currentColor\" text-anchor=\"middle\" y=\"309.5\">\n",
              "    <tspan class=\"displacy-word\" fill=\"currentColor\" x=\"225\">Говорун</tspan>\n",
              "    <tspan class=\"displacy-tag\" dy=\"2em\" fill=\"currentColor\" x=\"225\">PROPN</tspan>\n",
              "</text>\n",
              "\n",
              "<text class=\"displacy-token\" fill=\"currentColor\" text-anchor=\"middle\" y=\"309.5\">\n",
              "    <tspan class=\"displacy-word\" fill=\"currentColor\" x=\"400\">отличается</tspan>\n",
              "    <tspan class=\"displacy-tag\" dy=\"2em\" fill=\"currentColor\" x=\"400\">VERB</tspan>\n",
              "</text>\n",
              "\n",
              "<text class=\"displacy-token\" fill=\"currentColor\" text-anchor=\"middle\" y=\"309.5\">\n",
              "    <tspan class=\"displacy-word\" fill=\"currentColor\" x=\"575\">умом</tspan>\n",
              "    <tspan class=\"displacy-tag\" dy=\"2em\" fill=\"currentColor\" x=\"575\">NOUN</tspan>\n",
              "</text>\n",
              "\n",
              "<text class=\"displacy-token\" fill=\"currentColor\" text-anchor=\"middle\" y=\"309.5\">\n",
              "    <tspan class=\"displacy-word\" fill=\"currentColor\" x=\"750\">и</tspan>\n",
              "    <tspan class=\"displacy-tag\" dy=\"2em\" fill=\"currentColor\" x=\"750\">CCONJ</tspan>\n",
              "</text>\n",
              "\n",
              "<text class=\"displacy-token\" fill=\"currentColor\" text-anchor=\"middle\" y=\"309.5\">\n",
              "    <tspan class=\"displacy-word\" fill=\"currentColor\" x=\"925\">сообразительностью</tspan>\n",
              "    <tspan class=\"displacy-tag\" dy=\"2em\" fill=\"currentColor\" x=\"925\">NOUN</tspan>\n",
              "</text>\n",
              "\n",
              "<g class=\"displacy-arrow\">\n",
              "    <path class=\"displacy-arc\" id=\"arrow-4106c33c21e94776bf785c9b8bbed3eb-0-0\" stroke-width=\"2px\" d=\"M70,264.5 C70,89.5 395.0,89.5 395.0,264.5\" fill=\"none\" stroke=\"currentColor\"/>\n",
              "    <text dy=\"1.25em\" style=\"font-size: 0.8em; letter-spacing: 1px\">\n",
              "        <textPath xlink:href=\"#arrow-4106c33c21e94776bf785c9b8bbed3eb-0-0\" class=\"displacy-label\" startOffset=\"50%\" side=\"left\" fill=\"currentColor\" text-anchor=\"middle\">nsubj</textPath>\n",
              "    </text>\n",
              "    <path class=\"displacy-arrowhead\" d=\"M70,266.5 L62,254.5 78,254.5\" fill=\"currentColor\"/>\n",
              "</g>\n",
              "\n",
              "<g class=\"displacy-arrow\">\n",
              "    <path class=\"displacy-arc\" id=\"arrow-4106c33c21e94776bf785c9b8bbed3eb-0-1\" stroke-width=\"2px\" d=\"M70,264.5 C70,177.0 215.0,177.0 215.0,264.5\" fill=\"none\" stroke=\"currentColor\"/>\n",
              "    <text dy=\"1.25em\" style=\"font-size: 0.8em; letter-spacing: 1px\">\n",
              "        <textPath xlink:href=\"#arrow-4106c33c21e94776bf785c9b8bbed3eb-0-1\" class=\"displacy-label\" startOffset=\"50%\" side=\"left\" fill=\"currentColor\" text-anchor=\"middle\">appos</textPath>\n",
              "    </text>\n",
              "    <path class=\"displacy-arrowhead\" d=\"M215.0,266.5 L223.0,254.5 207.0,254.5\" fill=\"currentColor\"/>\n",
              "</g>\n",
              "\n",
              "<g class=\"displacy-arrow\">\n",
              "    <path class=\"displacy-arc\" id=\"arrow-4106c33c21e94776bf785c9b8bbed3eb-0-2\" stroke-width=\"2px\" d=\"M420,264.5 C420,177.0 565.0,177.0 565.0,264.5\" fill=\"none\" stroke=\"currentColor\"/>\n",
              "    <text dy=\"1.25em\" style=\"font-size: 0.8em; letter-spacing: 1px\">\n",
              "        <textPath xlink:href=\"#arrow-4106c33c21e94776bf785c9b8bbed3eb-0-2\" class=\"displacy-label\" startOffset=\"50%\" side=\"left\" fill=\"currentColor\" text-anchor=\"middle\">obl</textPath>\n",
              "    </text>\n",
              "    <path class=\"displacy-arrowhead\" d=\"M565.0,266.5 L573.0,254.5 557.0,254.5\" fill=\"currentColor\"/>\n",
              "</g>\n",
              "\n",
              "<g class=\"displacy-arrow\">\n",
              "    <path class=\"displacy-arc\" id=\"arrow-4106c33c21e94776bf785c9b8bbed3eb-0-3\" stroke-width=\"2px\" d=\"M770,264.5 C770,177.0 915.0,177.0 915.0,264.5\" fill=\"none\" stroke=\"currentColor\"/>\n",
              "    <text dy=\"1.25em\" style=\"font-size: 0.8em; letter-spacing: 1px\">\n",
              "        <textPath xlink:href=\"#arrow-4106c33c21e94776bf785c9b8bbed3eb-0-3\" class=\"displacy-label\" startOffset=\"50%\" side=\"left\" fill=\"currentColor\" text-anchor=\"middle\">cc</textPath>\n",
              "    </text>\n",
              "    <path class=\"displacy-arrowhead\" d=\"M770,266.5 L762,254.5 778,254.5\" fill=\"currentColor\"/>\n",
              "</g>\n",
              "\n",
              "<g class=\"displacy-arrow\">\n",
              "    <path class=\"displacy-arc\" id=\"arrow-4106c33c21e94776bf785c9b8bbed3eb-0-4\" stroke-width=\"2px\" d=\"M420,264.5 C420,2.0 925.0,2.0 925.0,264.5\" fill=\"none\" stroke=\"currentColor\"/>\n",
              "    <text dy=\"1.25em\" style=\"font-size: 0.8em; letter-spacing: 1px\">\n",
              "        <textPath xlink:href=\"#arrow-4106c33c21e94776bf785c9b8bbed3eb-0-4\" class=\"displacy-label\" startOffset=\"50%\" side=\"left\" fill=\"currentColor\" text-anchor=\"middle\">conj</textPath>\n",
              "    </text>\n",
              "    <path class=\"displacy-arrowhead\" d=\"M925.0,266.5 L933.0,254.5 917.0,254.5\" fill=\"currentColor\"/>\n",
              "</g>\n",
              "</svg></span>"
            ],
            "text/plain": [
              "<IPython.core.display.HTML object>"
            ]
          },
          "metadata": {
            "tags": []
          }
        }
      ]
    }
  ]
}